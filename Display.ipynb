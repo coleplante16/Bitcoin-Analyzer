{
 "cells": [
  {
   "cell_type": "code",
   "execution_count": 1,
   "id": "5d630e68-2a45-41b1-aefb-5119e8546a56",
   "metadata": {},
   "outputs": [],
   "source": [
    "import ipywidgets as widgets\n",
    "from ipywidgets import AppLayout, Button\n",
    "from ipywidgets import HTML, Layout, Dropdown, Output, Textarea, VBox, Label, Text, RadioButtons, Accordion"
   ]
  },
  {
   "cell_type": "code",
   "execution_count": 2,
   "id": "41077d3e-f526-4a68-9120-863e59054536",
   "metadata": {},
   "outputs": [],
   "source": [
    "header = HTML(\"<h1>Cryptocurrency Analyzer</h1>\", layout=Layout(height='auto'))\n",
    "header.style.text_align='center'\n",
    "options = {('Find an account based on a person\\'s username using Sherlock',1), \n",
    "         ('Find an account based on a person\\'s email',2), \n",
    "         ('Analyze an account you already know',3)}\n",
    "\n",
    "functionselector = RadioButtons( options = list(options),layout=Layout(width='auto'),value=None)\n",
    "center = VBox([Label(\"Please select an option from the list below:\"),functionselector], value=functionselector.value)\n",
    "footer = Button(description=\"confirm\", value=False)\n",
    "start = AppLayout(center=center,\n",
    "          header=header,\n",
    "          left_sidebar=None,\n",
    "          right_sidebar=None,\n",
    "          footer= footer,\n",
    "          grid_gap=\"10px\")"
   ]
  },
  {
   "cell_type": "code",
   "execution_count": 17,
   "id": "664b3555-b06e-468e-8fce-9d4183bf0a1b",
   "metadata": {},
   "outputs": [],
   "source": [
    "#address menu\n",
    "#def addrmenu():\n",
    "addrheader = HTML(\"<h1>Address Analyzer</h1>\", layout=Layout(height='auto'))\n",
    "addrheader.style.text_align='center'\n",
    "coins = {('BITCOIN','BTC'), ('ETHEREUM','ETH'), ('LITECOIN','LTC'), ('DASH','DASH')}\n",
    "\n",
    "currencyselector = Dropdown( options = list(coins),\n",
    "                            layout=Layout(width='auto', positioning='left'),\n",
    "                           value = 'BTC')\n",
    "\n",
    "addrtext = widgets.Text(disabled=False,value='',\n",
    "        layout=Layout(width='auto'))\n",
    "\n",
    "excel = widgets.ToggleButton(\n",
    "        value=False,\n",
    "        description='Excel',\n",
    "        disabled=False,\n",
    "        button_style='', # 'success', 'info', 'warning', 'danger' or ''\n",
    "        tooltip='Description',\n",
    "        icon='check'\n",
    "    )\n",
    "\n",
    "transactioncount = widgets.BoundedIntText(\n",
    "    value=15,\n",
    "    min=0,\n",
    "    max=10000,\n",
    "    step=1,\n",
    "    disabled=False,\n",
    "    layout=Layout(width='auto'),\n",
    "    )\n",
    "\n",
    "button = widgets.Button(description=\"confirm\", value=False)\n",
    "\n",
    "menu = AppLayout(center=None,\n",
    "          header=addrheader,\n",
    "          left_sidebar=VBox([Label(\"Currency:\"),\n",
    "                             currencyselector,\n",
    "\n",
    "                             Label(\"Address:\"),\n",
    "                             addrtext,\n",
    "\n",
    "                             Label('Number of Trannsactions:'),\n",
    "                             transactioncount,\n",
    "\n",
    "                             Label('Export Options:'),\n",
    "                             excel,\n",
    "                            ]),\n",
    "          right_sidebar=None,\n",
    "          footer = button,\n",
    "          height='auto',\n",
    "          grid_gap=\"10px\")"
   ]
  },
  {
   "cell_type": "code",
   "execution_count": 18,
   "id": "1384f5a0-11bf-4915-bdc1-86b4b2928175",
   "metadata": {},
   "outputs": [],
   "source": [
    "def printlist(listin):\n",
    "    vlist = []\n",
    "    for i in listin:\n",
    "        vlist.append(Label(i))\n",
    "    return Vbox(vlist)"
   ]
  },
  {
   "cell_type": "code",
   "execution_count": 19,
   "id": "9c209e4e-da77-4f16-960d-c201a675f9aa",
   "metadata": {},
   "outputs": [],
   "source": [
    "#address display\n",
    "def addrdisplay(currency, address, limit, excel):\n",
    "    out.clear_output()\n",
    "    addressinfo = collectdata(address, currency, limit, excel)\n",
    "    infoout = printlist(addressinfo)\n",
    "                        \n",
    "    addrheader = HTML(\"<h1>Address Display</h1>\", layout=Layout(height='auto'))\n",
    "    addrheader.style.text_align='center'\n",
    "\n",
    "    excel = widgets.ToggleButton(\n",
    "        value=False,\n",
    "        description='Excel',\n",
    "        disabled=False,\n",
    "        button_style='', # 'success', 'info', 'warning', 'danger' or ''\n",
    "        tooltip='Description',\n",
    "        icon='check'\n",
    "    )\n",
    "\n",
    "    addrtext = widgets.Text(disabled=False,\n",
    "        layout=Layout(width='auto'))\n",
    "    \n",
    "    transactioncount = widgets.BoundedIntText(\n",
    "        value=15,\n",
    "        min=0,\n",
    "        max=10000,\n",
    "        step=1,\n",
    "        disabled=False,\n",
    "        layout=Layout(width='auto'),\n",
    "    )\n",
    "    \n",
    "    addrmenu = AppLayout(center=None,\n",
    "              header=addrheader,\n",
    "              left_sidebar=infoout,\n",
    "              right_sidebar=None,\n",
    "              footer = VBox([Label(\" \"),Button(description=\"confirm\")]),\n",
    "              height='auto',\n",
    "              grid_gap=\"10px\")\n",
    "    return addrmenu"
   ]
  },
  {
   "cell_type": "code",
   "execution_count": 20,
   "id": "eaa2b0af-5d9a-404f-b479-c35728b88361",
   "metadata": {},
   "outputs": [],
   "source": [
    "def collectdata(addr, coin, limit, export):\n",
    "    from BlockCypher import overview\n",
    "    overview = overview(addr, coin, 'USD')\n",
    "    return overview"
   ]
  },
  {
   "cell_type": "code",
   "execution_count": 21,
   "id": "6056b7c8-5593-465d-81cc-fb52b45c09d0",
   "metadata": {},
   "outputs": [],
   "source": [
    "def home(b):\n",
    "    out.clear_output()\n",
    "    functionselector.value\n",
    "    return True"
   ]
  },
  {
   "cell_type": "code",
   "execution_count": 27,
   "id": "3498ee21-551a-4922-bac2-7ee29c36ffc4",
   "metadata": {},
   "outputs": [
    {
     "data": {
      "application/vnd.jupyter.widget-view+json": {
       "model_id": "a9e0cac46f1648a8a5d44f82f9fd232f",
       "version_major": 2,
       "version_minor": 0
      },
      "text/plain": [
       "Output()"
      ]
     },
     "metadata": {},
     "output_type": "display_data"
    }
   ],
   "source": [
    "\n",
    "out = widgets.Output()\n",
    "with out:        \n",
    "    display(start)\n",
    "i = footer.on_click(home)\n",
    "out"
   ]
  },
  {
   "cell_type": "code",
   "execution_count": 28,
   "id": "4d078fbd-87cd-4cab-8e69-76bd3777592b",
   "metadata": {},
   "outputs": [
    {
     "data": {
      "application/vnd.jupyter.widget-view+json": {
       "model_id": "e167f533b6864335805ee5174650cd35",
       "version_major": 2,
       "version_minor": 0
      },
      "text/plain": [
       "Output()"
      ]
     },
     "metadata": {},
     "output_type": "display_data"
    }
   ],
   "source": [
    "out = widgets.Output()\n",
    "with out:\n",
    "    display(menu)\n",
    "    button.on_click(i=addrdisplay(currencyselector.value, addrtext.value, transactioncount.value, excel.value))\n",
    "out"
   ]
  },
  {
   "cell_type": "code",
   "execution_count": null,
   "id": "f39587cd-3e7a-4f3a-a5df-bd08f8054a3b",
   "metadata": {},
   "outputs": [],
   "source": []
  }
 ],
 "metadata": {
  "kernelspec": {
   "display_name": "Python 3 (ipykernel)",
   "language": "python",
   "name": "python3"
  },
  "language_info": {
   "codemirror_mode": {
    "name": "ipython",
    "version": 3
   },
   "file_extension": ".py",
   "mimetype": "text/x-python",
   "name": "python",
   "nbconvert_exporter": "python",
   "pygments_lexer": "ipython3",
   "version": "3.10.6"
  }
 },
 "nbformat": 4,
 "nbformat_minor": 5
}
