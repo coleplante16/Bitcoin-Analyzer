{
 "cells": [
  {
   "cell_type": "code",
   "execution_count": null,
   "id": "5d630e68-2a45-41b1-aefb-5119e8546a56",
   "metadata": {},
   "outputs": [],
   "source": [
    "import ipywidgets as widgets\n",
    "from ipywidgets import AppLayout, Button, interact_manual\n",
    "from ipywidgets import HTML, Layout, Dropdown, Output, Textarea, VBox, Label, Text, RadioButtons, Accordion"
   ]
  },
  {
   "cell_type": "code",
   "execution_count": null,
   "id": "ddc0d8a2-a055-41ec-9ee6-b17e1be519c3",
   "metadata": {},
   "outputs": [],
   "source": [
    "#for asynchronous widgets\n",
    "#didn't work as intended may come back to this solution\n",
    "%gui asyncio\n",
    "import asyncio\n",
    "def wait_for_change(widget, value):\n",
    "    future = asyncio.Future()\n",
    "    def getvalue(change):\n",
    "        # make the new value available\n",
    "        future.set_result(change.new)\n",
    "        widget.unobserve(getvalue, value)\n",
    "    widget.observe(getvalue, value)\n",
    "    return future"
   ]
  },
  {
   "cell_type": "code",
   "execution_count": null,
   "id": "41077d3e-f526-4a68-9120-863e59054536",
   "metadata": {},
   "outputs": [],
   "source": [
    "header = HTML(\"<h1>Cryptocurrency Analyzer</h1>\", layout=Layout(height='auto'))\n",
    "header.style.text_align='center'\n",
    "options = {('Find an account based on a person\\'s username using Sherlock',1), \n",
    "         ('Find an account based on a person\\'s email',2), \n",
    "         ('Analyze an account you already know',3)}\n",
    "\n",
    "functionselector = RadioButtons( options = list(options),layout=Layout(width='auto'),value=None)\n",
    "center = VBox([Label(\"Please select an option from the list below:\"),functionselector], value=functionselector.value)\n",
    "footer = Button(description=\"confirm\", value=False)\n",
    "start = AppLayout(center=center,\n",
    "          header=header,\n",
    "          left_sidebar=None,\n",
    "          right_sidebar=None,\n",
    "          footer= footer,\n",
    "          grid_gap=\"10px\")"
   ]
  },
  {
   "cell_type": "code",
   "execution_count": null,
   "id": "664b3555-b06e-468e-8fce-9d4183bf0a1b",
   "metadata": {},
   "outputs": [],
   "source": [
    "#address menu\n",
    "#def addrmenu():\n",
    "addrheader = HTML(\"<h1>Address Analyzer</h1>\", layout=Layout(height='auto'))\n",
    "addrheader.style.text_align='center'\n",
    "coins = {('BITCOIN','BTC'), ('ETHEREUM','ETH'), ('LITECOIN','LTC'), ('DASH','DASH')}\n",
    "\n",
    "currencyselector = Dropdown( options = list(coins),\n",
    "                            layout=Layout(width='auto', positioning='left'),\n",
    "                           value = 'BTC')\n",
    "\n",
    "addrtext = widgets.Text(disabled=False,value='',\n",
    "        layout=Layout(width='auto'))\n",
    "\n",
    "excel = widgets.ToggleButton(\n",
    "        value=False,\n",
    "        description='Excel',\n",
    "        disabled=False,\n",
    "        button_style='', # 'success', 'info', 'warning', 'danger' or ''\n",
    "        tooltip='Description',\n",
    "        icon='check'\n",
    "    )\n",
    "\n",
    "transactioncount = widgets.BoundedIntText(\n",
    "    value=15,\n",
    "    min=0,\n",
    "    max=10000,\n",
    "    step=1,\n",
    "    disabled=False,\n",
    "    layout=Layout(width='auto'),\n",
    "    )\n",
    "\n",
    "button = widgets.Button(description=\"confirm\", value=False)\n",
    "\n",
    "menu = AppLayout(center=None,\n",
    "          header=addrheader,\n",
    "          left_sidebar=VBox([Label(\"Currency:\"),\n",
    "                             currencyselector,\n",
    "\n",
    "                             Label(\"Address:\"),\n",
    "                             addrtext,\n",
    "\n",
    "                             Label('Number of Trannsactions:'),\n",
    "                             transactioncount,\n",
    "\n",
    "                             Label('Export Options:'),\n",
    "                             excel,\n",
    "                            ]),\n",
    "          right_sidebar=None,\n",
    "          footer = button,\n",
    "          height='auto',\n",
    "          grid_gap=\"10px\")"
   ]
  },
  {
   "cell_type": "code",
   "execution_count": null,
   "id": "1384f5a0-11bf-4915-bdc1-86b4b2928175",
   "metadata": {},
   "outputs": [],
   "source": [
    "def printlist(listin):\n",
    "    vlist = []\n",
    "    for i in listin:\n",
    "        vlist.append(Label(i))\n",
    "    return Vbox(vlist)"
   ]
  },
  {
   "cell_type": "code",
   "execution_count": 19,
   "id": "9c209e4e-da77-4f16-960d-c201a675f9aa",
   "metadata": {},
   "outputs": [],
   "source": [
    "#address display\n",
    "\n",
    "#menu container\n",
    "addressmenu = AppLayout(center=None,\n",
    "              header=None,\n",
    "              left_sidebar=None,\n",
    "              right_sidebar=None,\n",
    "              footer =None)\n",
    "\n",
    "\n",
    "def addrdisplay(currency, address, limit, excel):\n",
    "    out.clear_output()\n",
    "    addressinfo = collectdata(address, currency, limit, excel)\n",
    "    infoout = printlist(addressinfo)\n",
    "                        \n",
    "    addrheader = HTML(\"<h1>Address Display</h1>\", layout=Layout(height='auto'))\n",
    "    addrheader.style.text_align='center'\n",
    "\n",
    "    excel = widgets.ToggleButton(\n",
    "        value=False,\n",
    "        description='Excel',\n",
    "        disabled=False,\n",
    "        button_style='', # 'success', 'info', 'warning', 'danger' or ''\n",
    "        tooltip='Description',\n",
    "        icon='check'\n",
    "    )\n",
    "\n",
    "    addrtext = widgets.Text(disabled=False,\n",
    "        layout=Layout(width='auto'))\n",
    "    \n",
    "    transactioncount = widgets.BoundedIntText(\n",
    "        value=15,\n",
    "        min=0,\n",
    "        max=10000,\n",
    "        step=1,\n",
    "        disabled=False,\n",
    "        layout=Layout(width='auto'),\n",
    "    )\n",
    "    \n",
    "    addrmenu = AppLayout(center=None,\n",
    "              header=addrheader,\n",
    "              left_sidebar=infoout,\n",
    "              right_sidebar=transaction(address, currency, limit),\n",
    "              footer = VBox([Label(\" \"), confirm]),\n",
    "              height='auto',\n",
    "              grid_gap=\"10px\")\n",
    "    with out:\n",
    "        display(addrmenu)\n",
    "        \n",
    "    addressmenu = addrmenu"
   ]
  },
  {
   "cell_type": "code",
   "execution_count": null,
   "id": "eaa2b0af-5d9a-404f-b479-c35728b88361",
   "metadata": {},
   "outputs": [],
   "source": [
    "def collectdata(addr, coin, limit, export):\n",
    "    from BlockCypher import overview\n",
    "    overview = overview(addr, coin, 'USD')\n",
    "    return overview"
   ]
  },
  {
   "cell_type": "code",
   "execution_count": null,
   "id": "6056b7c8-5593-465d-81cc-fb52b45c09d0",
   "metadata": {},
   "outputs": [],
   "source": [
    "def home(b):\n",
    "    out.clear_output()\n",
    "    functionselector.value\n",
    "    return True"
   ]
  },
  {
   "cell_type": "code",
   "execution_count": null,
   "id": "b30cb86b-3e36-4fb6-b5b0-8cf12e2151b6",
   "metadata": {},
   "outputs": [],
   "source": [
    "#functions for building graph\n",
    "def buildgraph(addr, addrlist):\n",
    "    w = GraphWidget()\n",
    "    \n",
    "    nodelist = [{\"id\": 0, \"properties\": {\"label\": addr}}]\n",
    "    edgelist = []\n",
    "    i = 0\n",
    "    for address in addrlist:\n",
    "        i += 1\n",
    "        nodelist.append({\"id\": i, \"properties\": {\"label\": address, \"Transactions\": addrlist[address]}})\n",
    "        edgelist.append({\"id\": i, \"start\": 0, \"end\": i, \"properties\": {\"label\": \"knows\"}})\n",
    "    \n",
    "    w.nodes = nodelist\n",
    "    w.edges = edgelist\n",
    "    w.directed = True\n",
    "    return w\n",
    "    \n",
    "def listtodict(addrlist):\n",
    "    addrdict = {}\n",
    "    for i in addrlist:\n",
    "        if addrlist.count(i) > 1:\n",
    "            addrdict[i] = addrlist.count(i)\n",
    "    return addrdict\n",
    "    \n",
    "#call with\n",
    "def transactions(address, coin, end):\n",
    "    # still collect data for eth and btc from respective apis\n",
    "    # able to collect more transactions in less api calls\n",
    "    if coin == 'ETH' or coin == 'BTC':\n",
    "        addrlist = currencyTX(address, end, coin)\n",
    "    else:\n",
    "        from BlockCypher import addrfull\n",
    "        addrlist = addrfull(address, coin, 'USD', end)\n",
    "        \n",
    "        addrs = listtodict(addrlist)\n",
    "        return buildgraph(address, addrs)\n"
   ]
  },
  {
   "cell_type": "code",
   "execution_count": 18,
   "id": "3498ee21-551a-4922-bac2-7ee29c36ffc4",
   "metadata": {},
   "outputs": [
    {
     "data": {
      "application/vnd.jupyter.widget-view+json": {
       "model_id": "5aa9183461cb4434b373b2194d329cc2",
       "version_major": 2,
       "version_minor": 0
      },
      "text/plain": [
       "Output()"
      ]
     },
     "metadata": {},
     "output_type": "display_data"
    }
   ],
   "source": [
    "out = widgets.Output()\n",
    "with out:        \n",
    "    display(start)\n",
    "i = footer.on_click(home)\n",
    "out"
   ]
  },
  {
   "cell_type": "code",
   "execution_count": 17,
   "id": "4d078fbd-87cd-4cab-8e69-76bd3777592b",
   "metadata": {},
   "outputs": [
    {
     "data": {
      "application/vnd.jupyter.widget-view+json": {
       "model_id": "e0c2d2079d9e4436811dbd6a4620b96b",
       "version_major": 2,
       "version_minor": 0
      },
      "text/plain": [
       "Output()"
      ]
     },
     "metadata": {},
     "output_type": "display_data"
    }
   ],
   "source": [
    "out = widgets.Output()\n",
    "with out:\n",
    "    #display(menu)\n",
    "    interact_manual(addrdisplay, currency=currencyselector.value, address=addrtext.value, limit=transactioncount.value, excel=excel.value);\n",
    "    \n",
    "out"
   ]
  },
  {
   "cell_type": "code",
   "execution_count": null,
   "id": "f39587cd-3e7a-4f3a-a5df-bd08f8054a3b",
   "metadata": {},
   "outputs": [],
   "source": []
  }
 ],
 "metadata": {
  "kernelspec": {
   "display_name": "Python 3 (ipykernel)",
   "language": "python",
   "name": "python3"
  },
  "language_info": {
   "codemirror_mode": {
    "name": "ipython",
    "version": 3
   },
   "file_extension": ".py",
   "mimetype": "text/x-python",
   "name": "python",
   "nbconvert_exporter": "python",
   "pygments_lexer": "ipython3",
   "version": "3.10.7"
  }
 },
 "nbformat": 4,
 "nbformat_minor": 5
}
